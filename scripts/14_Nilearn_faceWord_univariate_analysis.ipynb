{
 "cells": [
  {
   "cell_type": "markdown",
   "metadata": {},
   "source": [
    "# Using Nilearn for analysis of faceWord data in BIDS format\n",
    "\n",
    "This tutorial is almost identical to tutorial 09 and is based on [this analysis](https://nilearn.github.io/stable/auto_examples/07_advanced/plot_bids_analysis.html).\n",
    " and [this analysis](https://nilearn.github.io/dev/auto_examples/00_tutorials/plot_single_subject_single_run.html#sphx-glr-auto-examples-00-tutorials-plot-single-subject-single-run-py) presented on the Nilearn web-page."
   ]
  },
  {
   "cell_type": "markdown",
   "metadata": {},
   "source": [
    "\n",
    "# BIDS dataset first and second level analysis\n",
    "\n",
    "\n",
    "This tutorial contains step-by-step example of fitting a `GLM` to perform a first (single subject) and second level (group)\n",
    "analysis in a `BIDS` dataset and visualizing the results.\n",
    "\n",
    "#### Brain Imaging Data Structure (BIDS)\n",
    "`BIDS`is a particular convention for storing neuroimaging data, which makes it easier to reproduce and share analyses:\n",
    "\n",
    "![img](https://media.springernature.com/m685/springer-static/image/art%3A10.1038%2Fsdata.2016.44/MediaObjects/41597_2016_Article_BFsdata201644_Fig1_HTML.jpg)\n",
    "\n",
    "Details about the `BIDS` standard can be consulted at\n",
    "[http://bids.neuroimaging.io](http://bids.neuroimaging.io/).\n",
    "\n",
    "\n",
    "\n",
    "## In this tutorial, we will:\n",
    "\n",
    "1. Download an fMRI `BIDS` dataset with two language conditions to contrast (reading sentences and letter strings).\n",
    "2. Extract first level (single subject) model objects automatically from the `BIDS` dataset.\n",
    "3. Investigate the model and plot it design matrix, contrasts and effects.\n",
    "4. Fit a second level (group) model on the fitted first level models. Notice that\n",
    "   in this case the preprocessed `BOLD` images were already normalized to the\n",
    "   same `MNI` space.\n",
    "5. Plot the results in different ways to show some of the possibilities in Nilearn.\n"
   ]
  },
  {
   "cell_type": "code",
   "execution_count": null,
   "metadata": {
    "execution": {
     "iopub.execute_input": "2022-11-01T22:39:56.140947Z",
     "iopub.status.busy": "2022-11-01T22:39:56.140550Z",
     "iopub.status.idle": "2022-11-01T22:40:15.173140Z",
     "shell.execute_reply": "2022-11-01T22:40:15.172423Z",
     "shell.execute_reply.started": "2022-11-01T22:39:56.140917Z"
    },
    "tags": []
   },
   "outputs": [],
   "source": [
    "# import some functionality\n",
    "from datetime import datetime\n",
    "\n",
    "now = datetime.now()\n",
    "print('Starting cell:',now.strftime(\"%H:%M:%S\"))\n",
    "import os\n",
    "import pip\n",
    "os.system('python -m pip install numpy')\n",
    "os.system('python -m pip install matplotlib')\n",
    "os.system('python -m pip install scipy')\n",
    "os.system('python -m pip install panda')\n",
    "os.system('python -m pip install nilearn')\n",
    "os.system('python -m pip install pickle')\n",
    "os.system('python -m pip install atlasreader')\n",
    "\n",
    "#import os.path as op\n",
    "#import numpy as np\n",
    "#from numpy.linalg import inv\n",
    "#import nibabel as nib\n",
    "import matplotlib.pyplot as plt\n",
    "#from scipy.ndimage import gaussian_filter\n",
    "\n",
    "%matplotlib inline\n",
    "\n",
    "now = datetime.now()\n",
    "print('Finishing cell:',now.strftime(\"%H:%M:%S\"))"
   ]
  },
  {
   "cell_type": "markdown",
   "metadata": {
    "tags": []
   },
   "source": [
    "## Fetch faceWord BIDS dataset\n",
    "The faceWord dataset is located in the `fMRI_data_raw` folder.\n",
    "\n"
   ]
  },
  {
   "cell_type": "markdown",
   "metadata": {},
   "source": [
    "### Investigating the BIDS structure\n",
    "Let's make a function to see what this folder contains."
   ]
  },
  {
   "cell_type": "code",
   "execution_count": null,
   "metadata": {
    "execution": {
     "iopub.execute_input": "2022-11-01T20:07:58.325720Z",
     "iopub.status.busy": "2022-11-01T20:07:58.325337Z",
     "iopub.status.idle": "2022-11-01T20:07:58.359718Z",
     "shell.execute_reply": "2022-11-01T20:07:58.359085Z",
     "shell.execute_reply.started": "2022-11-01T20:07:58.325698Z"
    },
    "tags": []
   },
   "outputs": [],
   "source": [
    "def list_files(startpath):\n",
    "    \"\"\" Simple function to show directory tree. \n",
    "    From: https://stackoverflow.com/questions/9727673/list-directory-tree-structure-in-python. \"\"\"\n",
    "    for root, dirs, files in os.walk(startpath):\n",
    "        level = root.replace(startpath, '').count(os.sep)\n",
    "        indent = ' ' * 4 * (level)\n",
    "        print('{}{}/'.format(indent, os.path.basename(root)))\n",
    "        subindent = ' ' * 4 * (level + 1)\n",
    "        for f in sorted(files):\n",
    "            print('{}{}'.format(subindent, f))\n",
    "            \n",
    "data_dir='/work/82777/BIDS/' \n",
    "derivatives_dir=  '/work/82777/BIDS/derivatives/'          \n",
    "list_files(derivatives_dir)"
   ]
  },
  {
   "cell_type": "markdown",
   "metadata": {},
   "source": [
    "### What is in the BIDS folder?\n",
    "This `BIDS` dataset folder contains different mandatory elements ([http://bids.neuroimaging.io](http://bids.neuroimaging.io/)). These include:\n",
    "- A folder for each participant, e.g. `sub-01`. This contains a subfolder called `func` where the raw BOLD data is usually stored along with a `.tsv` file describing the events (experimental design) of the particular scan. In this dataset the raw data has been left out. Also the `anat`folder, which normally contains anatomical scans have been left out.\n",
    "- A folder called `derivatives` which is used to store processed data. In this dataset, we will can find preprocessed data files `preproc_bold.nii` and the `confounds_regressors.tsv` files (which contains the motion parameters from the spatial realignment. \n",
    "- A number of `.json` files with meta-data.\n",
    "\n",
    "NB. All the filenames contain a description of the particular experiment."
   ]
  },
  {
   "cell_type": "markdown",
   "metadata": {},
   "source": [
    "## Obtain automatically FirstLevelModel objects and fit arguments\n",
    "From the dataset directory we automatically obtain the FirstLevelModel objects\n",
    "with their subject_id filled from the :term:`BIDS` dataset. Moreover, we obtain\n",
    "for each model a dictionary with run_imgs, events and confounder regressors\n",
    "since in this case a confounds.tsv file is available in the :term:`BIDS` dataset.\n",
    "To get the first level models we only have to specify the dataset directory\n",
    "and the task_label (`languagelocalizer`) as specified in the file names.\n",
    "\n"
   ]
  },
  {
   "cell_type": "code",
   "execution_count": null,
   "metadata": {
    "execution": {
     "iopub.execute_input": "2022-11-01T20:07:58.360756Z",
     "iopub.status.busy": "2022-11-01T20:07:58.360560Z",
     "iopub.status.idle": "2022-11-01T20:08:05.729946Z",
     "shell.execute_reply": "2022-11-01T20:08:05.728781Z",
     "shell.execute_reply.started": "2022-11-01T20:07:58.360738Z"
    },
    "tags": []
   },
   "outputs": [],
   "source": [
    "from nilearn.glm.first_level import first_level_from_bids\n",
    "\n",
    "#BIDS directory\n",
    "data_dir='/work/82777/BIDS/'\n",
    "# BIDS derivatives (contains preprocessed data)\n",
    "derivatives_dir='/work/82777/BIDS/derivatives' \n",
    "# Name for experiment in the BIDS directory\n",
    "task_label = 'EPIsequencewords'\n",
    "# Label for data that are spatially aligned to the MNI152 template (i.e. spatially normalised)\n",
    "space_label ='MNI152NLin2009cAsym'\n",
    "#Run the function that can gather all the needed info from a BIDS folder\n",
    "models, models_run_imgs, models_events, models_confounds = \\\n",
    "    first_level_from_bids(\n",
    "        data_dir, task_label, derivatives_folder=derivatives_dir, n_jobs=6, verbose=1,\n",
    "        img_filters=[('desc', 'preproc')])\n",
    "\n",
    "#Print the data from the first participant as sanity check\n",
    "print(models_run_imgs[0])\n",
    "\n",
    "now = datetime.now()\n",
    "print('Finishing cell:',now.strftime(\"%H:%M:%S\"))"
   ]
  },
  {
   "attachments": {
    "confused_emoji.jpeg": {
     "image/jpeg": "[encoded data removed]"
    }
   },
   "cell_type": "markdown",
   "metadata": {},
   "source": [
    "### What just happened?\n",
    "![confused_emoji.jpeg](attachment:confused_emoji.jpeg)\n",
    "\n",
    "The above code looks somewhat opaque. What is happening here? Let's look into the `first_level_from_bids` function."
   ]
  },
  {
   "cell_type": "code",
   "execution_count": null,
   "metadata": {
    "execution": {
     "iopub.execute_input": "2022-11-01T20:08:05.731756Z",
     "iopub.status.busy": "2022-11-01T20:08:05.731507Z",
     "iopub.status.idle": "2022-11-01T20:08:05.741135Z",
     "shell.execute_reply": "2022-11-01T20:08:05.740356Z",
     "shell.execute_reply.started": "2022-11-01T20:08:05.731738Z"
    },
    "tags": []
   },
   "outputs": [],
   "source": [
    "#What does the `first_level_from_bid` function take as arguments?\n",
    "import inspect\n",
    "import pandas as pd\n",
    "#Get the argument from the function\n",
    "args=inspect.getfullargspec(first_level_from_bids)\n",
    "\n",
    "#Make a dataframe to display arguments (skip the first two ('dataset_path' and 'task_label') that have no defaults\n",
    "df = pd.DataFrame(args.defaults,args.args[2:])\n",
    "print(df)\n",
    "\n",
    "#Same info can also be obtained by writing first_level_from_bids?\n",
    "\n",
    "now = datetime.now()\n",
    "print('Finishing cell:',now.strftime(\"%H:%M:%S\"))"
   ]
  },
  {
   "cell_type": "markdown",
   "metadata": {},
   "source": [
    "Here, we can see that the function uses information about `t_r` (TR), `HRF_model` (hemodynamic response function),``drift_model`` and `high_pass` (both used for high-pass filtering), `noise_model`(used for modelling auto correlation). In other words, this function seems to implement all the elements, we have been going through in previous tutorials.\n",
    "\n",
    "<b>Nice stuff!</b>"
   ]
  },
  {
   "cell_type": "markdown",
   "metadata": {},
   "source": [
    "## Quick sanity check on fit arguments\n",
    "Additional checks or information extraction from pre-processed data can\n",
    "be made here.\n",
    "\n"
   ]
  },
  {
   "cell_type": "markdown",
   "metadata": {},
   "source": [
    "As, we have seen from the folder inspection, we only have one run_img per subject.\n",
    "\n"
   ]
  },
  {
   "cell_type": "code",
   "execution_count": null,
   "metadata": {
    "execution": {
     "iopub.execute_input": "2022-11-01T20:08:05.743222Z",
     "iopub.status.busy": "2022-11-01T20:08:05.743032Z",
     "iopub.status.idle": "2022-11-01T20:08:05.760169Z",
     "shell.execute_reply": "2022-11-01T20:08:05.759452Z",
     "shell.execute_reply.started": "2022-11-01T20:08:05.743206Z"
    },
    "tags": []
   },
   "outputs": [],
   "source": [
    "import os\n",
    "#Get the file names for subj01 functional data\n",
    "func01=([os.path.basename(run) for run in models_run_imgs[12]])\n",
    "print(func01)\n",
    "\n"
   ]
  },
  {
   "cell_type": "markdown",
   "metadata": {},
   "source": [
    "Let's load this file and inspect the data."
   ]
  },
  {
   "cell_type": "code",
   "execution_count": null,
   "metadata": {
    "execution": {
     "iopub.execute_input": "2022-11-01T20:08:05.761288Z",
     "iopub.status.busy": "2022-11-01T20:08:05.761052Z",
     "iopub.status.idle": "2022-11-01T20:09:07.102015Z",
     "shell.execute_reply": "2022-11-01T20:09:07.099438Z",
     "shell.execute_reply.started": "2022-11-01T20:08:05.761267Z"
    },
    "tags": []
   },
   "outputs": [],
   "source": [
    "from nilearn import image\n",
    "\n",
    "#Get the full path\n",
    "func01_path=([os.path.abspath(run) for run in models_run_imgs[0]])\n",
    "#Load the image and inspect data size\n",
    "func_img = image.load_img(func01_path)\n",
    "print(\"Shape of functional MRI image: %s\" % (func_img.shape,))"
   ]
  },
  {
   "cell_type": "markdown",
   "metadata": {},
   "source": [
    "As we see, the data contains 6x600 = 3600 volumes with a 78 x 92 x65 voxel resolution."
   ]
  },
  {
   "cell_type": "code",
   "execution_count": null,
   "metadata": {
    "execution": {
     "iopub.execute_input": "2022-11-01T20:09:07.105865Z",
     "iopub.status.busy": "2022-11-01T20:09:07.105596Z",
     "iopub.status.idle": "2022-11-01T20:09:07.112878Z",
     "shell.execute_reply": "2022-11-01T20:09:07.112154Z",
     "shell.execute_reply.started": "2022-11-01T20:09:07.105844Z"
    },
    "tags": []
   },
   "outputs": [],
   "source": [
    "print(models[0])"
   ]
  },
  {
   "cell_type": "markdown",
   "metadata": {},
   "source": [
    "Here, we see that the model is a `FirstLevelModel` object ([See here for details](https://nilearn.github.io/dev/modules/generated/nilearn.glm.first_level.FirstLevelModel.html)). This means that it incorporates all the same default values for setting up and estimating GLM-fMRI models as in the `first_level_from_bids`, unless else is mentioned. \n",
    "\n",
    "Here, we see the additional information that data were obtained with a TR of 1.0 seconds.\n",
    "\n",
    "fmriprep exports a large number of [confounding parameters](https://fmriprep.org/en/stable/outputs.html#confounds) which can be used to regress out noise in the data. These are saved in a .tsv file in the derivatives folder (func) with the name `sub-00xx_task-EPIsequencewords_run-1_desc-confounds_timeseries.tsv`.\n",
    "\n",
    "These are automatically imported into the `model_confounds` variable.\n",
    "Let's inspect what we find in the `models_confounds` variable."
   ]
  },
  {
   "cell_type": "code",
   "execution_count": null,
   "metadata": {
    "execution": {
     "iopub.execute_input": "2022-11-01T20:09:07.114045Z",
     "iopub.status.busy": "2022-11-01T20:09:07.113773Z",
     "iopub.status.idle": "2022-11-01T20:09:07.127150Z",
     "shell.execute_reply": "2022-11-01T20:09:07.126325Z",
     "shell.execute_reply.started": "2022-11-01T20:09:07.114027Z"
    },
    "tags": []
   },
   "outputs": [],
   "source": [
    "#Print model confounds for first participant, first run\n",
    "print(models_confounds[0][0].columns)\n",
    "\n"
   ]
  },
  {
   "cell_type": "code",
   "execution_count": null,
   "metadata": {
    "tags": []
   },
   "outputs": [],
   "source": []
  },
  {
   "cell_type": "markdown",
   "metadata": {},
   "source": [
    "There are literally hundreds of confounds stored.\n",
    "Read more about them [here](https://fmriprep.org/en/stable/outputs.html#confounds)\n",
    "\n",
    "Read more about how they can be used in [this article](https://www.sciencedirect.com/science/article/pii/S1053811917310972?via%3Dihub)\n",
    "Here, we will pick the Friston24 confound variables. These correspond to the rotations and translations, we covered in the <tt>08_fMRI_preprocessing2_spatial.ipyn</tt> tutorial in combination with their derivatives and their squares. We will combine them with four measures of the global signal."
   ]
  },
  {
   "cell_type": "code",
   "execution_count": null,
   "metadata": {
    "execution": {
     "iopub.execute_input": "2022-11-01T20:09:07.128440Z",
     "iopub.status.busy": "2022-11-01T20:09:07.128147Z",
     "iopub.status.idle": "2022-11-01T20:09:07.401984Z",
     "shell.execute_reply": "2022-11-01T20:09:07.400511Z",
     "shell.execute_reply.started": "2022-11-01T20:09:07.128421Z"
    },
    "tags": []
   },
   "outputs": [],
   "source": [
    "\n",
    "confound_friston24 = ['trans_x','trans_y','trans_z',\n",
    "                 'rot_x','rot_y','rot_z','trans_x_derivative1','trans_y_derivative1','trans_z_derivative1',\n",
    "                 'rot_x_derivative1','rot_y_derivative1','rot_z_derivative1','trans_x_power2','trans_y_power2','trans_z_power2',\n",
    "                 'rot_x_power2','rot_y_power2','rot_z_power2']\n",
    "\n",
    "confound_friston24_GSR = ['global_signal','global_signal_derivative1','global_signal_power2','global_signal_derivative1_power2','trans_x','trans_y','trans_z',\n",
    "                 'rot_x','rot_y','rot_z','trans_x_derivative1','trans_y_derivative1','trans_z_derivative1',\n",
    "                 'rot_x_derivative1','rot_y_derivative1','rot_z_derivative1','trans_x_power2','trans_y_power2','trans_z_power2',\n",
    "                 'rot_x_power2','rot_y_power2','rot_z_power2']\n",
    "\n",
    "# Subset confounds with selection\n",
    "for ii in range(len(models_confounds)):\n",
    "    confounds1=models_confounds[ii][:].copy()\n",
    "    for i in range(len(confounds1)):\n",
    "        confounds2=confounds1[i].copy()\n",
    "        confounds2=confounds2[confound_friston24_GSR]\n",
    "        #Removing NAs in the first row.\n",
    "        confounds2.loc[0,:]=confounds2.loc[1,:]\n",
    "        confounds1[i]=confounds2\n",
    "    models_confounds[ii][:]=confounds1\n",
    "\n",
    "\n",
    "#Print new confounds, for first participant, first run\n",
    "print(models_confounds[0][0].columns)\n",
    "\n",
    "now = datetime.now()\n",
    "print('Finishing cell:',now.strftime(\"%H:%M:%S\"))"
   ]
  },
  {
   "cell_type": "markdown",
   "metadata": {},
   "source": [
    "### Events from the experiment\n",
    "Next, we will see what is in the `models_events` variable."
   ]
  },
  {
   "cell_type": "code",
   "execution_count": null,
   "metadata": {
    "execution": {
     "iopub.execute_input": "2022-11-01T20:09:07.404352Z",
     "iopub.status.busy": "2022-11-01T20:09:07.403976Z",
     "iopub.status.idle": "2022-11-01T20:09:07.416028Z",
     "shell.execute_reply": "2022-11-01T20:09:07.415401Z",
     "shell.execute_reply.started": "2022-11-01T20:09:07.404320Z"
    },
    "tags": []
   },
   "outputs": [],
   "source": [
    "print(models_events[0][0])"
   ]
  },
  {
   "cell_type": "markdown",
   "metadata": {},
   "source": [
    "We will trim this a bit as well, to avoid some annoying error messages"
   ]
  },
  {
   "cell_type": "code",
   "execution_count": null,
   "metadata": {
    "execution": {
     "iopub.execute_input": "2022-11-01T20:09:07.417022Z",
     "iopub.status.busy": "2022-11-01T20:09:07.416820Z",
     "iopub.status.idle": "2022-11-01T20:09:07.510031Z",
     "shell.execute_reply": "2022-11-01T20:09:07.509344Z",
     "shell.execute_reply.started": "2022-11-01T20:09:07.417005Z"
    },
    "tags": []
   },
   "outputs": [],
   "source": [
    "#Print model confounds for first participant, first run\n",
    "print(models_events[0][0].columns)\n",
    "\n",
    "events_sub= ['onset','duration','trial_type']\n",
    "\n",
    "\n",
    "\n",
    "# Subset confounds with selection\n",
    "for ii in range(len(models_events)):\n",
    "    events1=models_events[ii][:]\n",
    "    for i in range(len(events1)):\n",
    "        events2=events1[i]\n",
    "        events2=events2[events_sub]\n",
    "        events1[i]=events2\n",
    "    models_events[ii][:]=events1\n",
    "\n",
    "\n",
    "#Print new confounds, for first participant, first run\n",
    "print(models_events[0][0].columns)\n",
    "\n",
    "now = datetime.now()\n",
    "print('Finishing cell:',now.strftime(\"%H:%M:%S\"))"
   ]
  },
  {
   "cell_type": "markdown",
   "metadata": {},
   "source": [
    "\n",
    "\n",
    "We can see check how many trials were in each condition:"
   ]
  },
  {
   "cell_type": "code",
   "execution_count": null,
   "metadata": {
    "execution": {
     "iopub.execute_input": "2022-11-01T20:09:07.511044Z",
     "iopub.status.busy": "2022-11-01T20:09:07.510821Z",
     "iopub.status.idle": "2022-11-01T20:09:07.515964Z",
     "shell.execute_reply": "2022-11-01T20:09:07.515334Z",
     "shell.execute_reply.started": "2022-11-01T20:09:07.511029Z"
    },
    "tags": []
   },
   "outputs": [],
   "source": [
    "print(models_events[0][0]['trial_type'].value_counts())"
   ]
  },
  {
   "cell_type": "markdown",
   "metadata": {},
   "source": [
    "60 trials!"
   ]
  },
  {
   "cell_type": "markdown",
   "metadata": {},
   "source": [
    "## First level (single subject) model estimation\n",
    "Now, that we have seen that the `first_level_from_bids` function gathers everything we need for analysis, we can get going with the analysis\n"
   ]
  },
  {
   "cell_type": "markdown",
   "metadata": {},
   "source": [
    "### Analysing one participant\n",
    "\n",
    "We will start by analysing the data from the first participant and generating a report of the process and the results.\n",
    "\n",
    "If we have a [`FirstLevelModel`](https://nilearn.github.io/dev/modules/generated/nilearn.glm.first_level.FirstLevelModel.html) class object as we have created above, we can use the variable.fit() function to pair the `FirstLevelModel`object with the missing information (e.g. functional images, events and a matrix of confounding variables), assemble the model and estimate it."
   ]
  },
  {
   "cell_type": "code",
   "execution_count": null,
   "metadata": {
    "execution": {
     "iopub.execute_input": "2022-11-01T20:09:07.516976Z",
     "iopub.status.busy": "2022-11-01T20:09:07.516715Z",
     "iopub.status.idle": "2022-11-01T20:10:54.022861Z",
     "shell.execute_reply": "2022-11-01T20:10:54.022225Z",
     "shell.execute_reply.started": "2022-11-01T20:09:07.516960Z"
    },
    "tags": []
   },
   "outputs": [],
   "source": [
    "\n",
    "# Get data and model info for 1st participant\n",
    "model1=models[0]\n",
    "imgs1=models_run_imgs[0]\n",
    "events1=models_events[0]\n",
    "confounds1=models_confounds[0]\n",
    "\n",
    "#Fit the model\n",
    "model1.fit(imgs1,events1,confounds1)\n",
    "model1.zmap=model1.compute_contrast('image_neg-image_pos')\n",
    "\n",
    "now = datetime.now()\n",
    "print('Finishing cell:',now.strftime(\"%H:%M:%S\"))"
   ]
  },
  {
   "cell_type": "markdown",
   "metadata": {},
   "source": [
    "### Plotting the design matrix\n",
    "We will then use the `plot_design_matrix`function to give the model a sanity check. "
   ]
  },
  {
   "cell_type": "code",
   "execution_count": null,
   "metadata": {
    "execution": {
     "iopub.execute_input": "2022-11-01T20:10:54.026371Z",
     "iopub.status.busy": "2022-11-01T20:10:54.026009Z",
     "iopub.status.idle": "2022-11-01T20:10:54.623551Z",
     "shell.execute_reply": "2022-11-01T20:10:54.623041Z",
     "shell.execute_reply.started": "2022-11-01T20:10:54.026352Z"
    },
    "tags": []
   },
   "outputs": [],
   "source": [
    "\n",
    "from nilearn.plotting import plot_design_matrix\n",
    "\n",
    "# View the design matrix\n",
    "design_matrix = model1.design_matrices_[0]\n",
    "\n",
    "\n",
    "#Plot the design matrix\n",
    "plot_design_matrix(design_matrix)\n",
    "plt.show()\n",
    "\n",
    "# Also plot time series\n",
    "plt.plot(design_matrix['image_pos'])\n",
    "plt.xlabel('scan')\n",
    "plt.title('Expected Response from image_pos condition')\n",
    "plt.show()\n",
    "\n",
    "now = datetime.now()\n",
    "print('Finishing cell:',now.strftime(\"%H:%M:%S\"))"
   ]
  },
  {
   "cell_type": "markdown",
   "metadata": {},
   "source": [
    "We see that the design matrix contains 2 columns for the conditions + 6 for the motion parameters + 6 cosine functions for high-pass filtering + one constant/intercept.\n",
    "\n",
    "When plotting the expected response function, we see that it looks like the hemodynamic response function.\n",
    "\n",
    "\n",
    "### Defining contrasts\n",
    "\n",
    "\n",
    "Next, we need to specify the `contrasts` that we are interested in. These can be defined using using vectors or the names of of the conditions, specified in the events dataframe. Sum, subtraction and scalar multiplication are allowed.\n"
   ]
  },
  {
   "cell_type": "code",
   "execution_count": null,
   "metadata": {
    "execution": {
     "iopub.execute_input": "2022-11-01T20:10:54.624840Z",
     "iopub.status.busy": "2022-11-01T20:10:54.624495Z",
     "iopub.status.idle": "2022-11-01T20:10:56.212775Z",
     "shell.execute_reply": "2022-11-01T20:10:56.212280Z",
     "shell.execute_reply.started": "2022-11-01T20:10:54.624820Z"
    },
    "tags": []
   },
   "outputs": [],
   "source": [
    "from nilearn.plotting import plot_contrast_matrix\n",
    "\n",
    "#Define contrasts\n",
    "contrasts=['image_pos','image_neg','image_pos+image_neg','image_neg-image_pos']\n",
    "\n",
    "# Plot them to see what they look like\n",
    "for contrast in contrasts:\n",
    "    plot_contrast_matrix(contrast, design_matrix=design_matrix)\n",
    "    \n",
    "now = datetime.now()\n",
    "print('Finishing cell:',now.strftime(\"%H:%M:%S\"))"
   ]
  },
  {
   "cell_type": "markdown",
   "metadata": {},
   "source": [
    "### Setting the significance threshold\n",
    "To display the results, we will set a statistical threshold. Conventionally p<0.001, uncorrected for multiple comparisons has been used. \n",
    "\n",
    "It often gives a good picture of what is at play in the data, but should be interpreted with caution, due to the fact that it is uncorrected."
   ]
  },
  {
   "cell_type": "code",
   "execution_count": null,
   "metadata": {
    "execution": {
     "iopub.execute_input": "2022-11-01T20:10:56.214034Z",
     "iopub.status.busy": "2022-11-01T20:10:56.213697Z",
     "iopub.status.idle": "2022-11-01T20:10:56.217288Z",
     "shell.execute_reply": "2022-11-01T20:10:56.216793Z",
     "shell.execute_reply.started": "2022-11-01T20:10:56.214015Z"
    },
    "tags": []
   },
   "outputs": [],
   "source": [
    "from scipy.stats import norm\n",
    "p001_unc = norm.isf(0.001)"
   ]
  },
  {
   "cell_type": "markdown",
   "metadata": {},
   "source": [
    "### Plotting the results\n",
    "Now, we will plot the results from the different contrasts. We will do so using the mean of the functional data as background."
   ]
  },
  {
   "cell_type": "code",
   "execution_count": null,
   "metadata": {
    "execution": {
     "iopub.execute_input": "2022-11-01T20:10:56.218218Z",
     "iopub.status.busy": "2022-11-01T20:10:56.217965Z",
     "iopub.status.idle": "2022-11-01T20:11:50.159740Z",
     "shell.execute_reply": "2022-11-01T20:11:50.159196Z",
     "shell.execute_reply.started": "2022-11-01T20:10:56.218200Z"
    },
    "tags": []
   },
   "outputs": [],
   "source": [
    "from nilearn.plotting import plot_stat_map\n",
    "from nilearn.reporting import get_clusters_table\n",
    "from nilearn.image import mean_img\n",
    "\n",
    "\n",
    "# Make a mean image for display purposes\n",
    "mean_img_ = mean_img(imgs1)\n",
    "\n",
    "for contrast in contrasts:\n",
    "    z_map = model1.compute_contrast(contrast, output_type='z_score')\n",
    "\n",
    "\n",
    "    titlex=''.join([contrast, ' ', '(p<0.001, uncor.)'])\n",
    "    plot_stat_map(z_map, bg_img=mean_img_, threshold=p001_unc,\n",
    "              display_mode='z',  black_bg=True,\n",
    "              title=titlex)\n",
    "    plt.show()\n",
    "    \n",
    "    # Make a table of cluster coordinates.\n",
    "    table = get_clusters_table(z_map, stat_threshold=p001_unc,\n",
    "                           cluster_threshold=20)\n",
    "    print(table)\n",
    "    \n",
    "now = datetime.now()\n",
    "print('Finishing cell:',now.strftime(\"%H:%M:%S\"))"
   ]
  },
  {
   "cell_type": "markdown",
   "metadata": {},
   "source": [
    "### Make a report of the results\n",
    "\n",
    "We can also use the [`make_glm_report`](https://nistats.github.io/modules/generated/nistats.reporting.make_glm_report.html) function to make a report in one go. This report is generated as a HTML document, which can only be viewed in a notebook.\n",
    "\n",
    "This also includes a table of cluster coordinates.\n"
   ]
  },
  {
   "cell_type": "code",
   "execution_count": null,
   "metadata": {
    "execution": {
     "iopub.execute_input": "2022-11-01T20:11:50.160912Z",
     "iopub.status.busy": "2022-11-01T20:11:50.160706Z",
     "iopub.status.idle": "2022-11-01T20:13:05.004880Z",
     "shell.execute_reply": "2022-11-01T20:13:05.003518Z",
     "shell.execute_reply.started": "2022-11-01T20:11:50.160894Z"
    },
    "tags": []
   },
   "outputs": [],
   "source": [
    "from nilearn.reporting import make_glm_report\n",
    "#Generate a report\n",
    "report = make_glm_report(model1,\n",
    "                         contrasts=contrasts,\n",
    "                         threshold=p001_unc,\n",
    "                         bg_img=mean_img_,\n",
    "                         )\n",
    "#Display report in HTML format\n",
    "report"
   ]
  },
  {
   "cell_type": "markdown",
   "metadata": {},
   "source": [
    "### Making an F contrast\n"
   ]
  },
  {
   "cell_type": "code",
   "execution_count": null,
   "metadata": {
    "execution": {
     "iopub.execute_input": "2022-11-01T20:13:05.006944Z",
     "iopub.status.busy": "2022-11-01T20:13:05.006482Z",
     "iopub.status.idle": "2022-11-01T20:13:09.124805Z",
     "shell.execute_reply": "2022-11-01T20:13:09.124039Z",
     "shell.execute_reply.started": "2022-11-01T20:13:05.006915Z"
    },
    "tags": []
   },
   "outputs": [],
   "source": [
    "import numpy as np\n",
    "\n",
    "#create a contrast matrix for the F-contrast, spanning the two first columns in the design matrix\n",
    "effects_of_interest =np.identity(design_matrix.shape[1])[[0,1],:]\n",
    "\n",
    "#Let's see what it looks like\n",
    "plot_contrast_matrix(effects_of_interest, design_matrix)\n",
    "plt.show()\n",
    "\n",
    "#Similar to above, we will compute the effect\n",
    "z_map = model1.compute_contrast(effects_of_interest,\n",
    "                                  output_type='z_score')\n",
    "\n",
    "#And plot the results using an overlay\n",
    "plot_stat_map(z_map, bg_img=mean_img_, threshold=p001_unc, cmap='autumn',\n",
    "              display_mode='z',  black_bg=True,cut_coords=[-30,-20,-10,0,10,20,30],\n",
    "              title='F-contrast: (p<0.001, uncor.)')\n",
    "plt.show()\n",
    "    \n",
    "# Make a table of cluster coordinates.\n",
    "table = get_clusters_table(z_map, stat_threshold=p001_unc,\n",
    "                           cluster_threshold=20)\n",
    "print(table)"
   ]
  },
  {
   "cell_type": "markdown",
   "metadata": {},
   "source": [
    "### Analysing all single participants in one go and plotting them\n",
    "\n",
    "Now, we will make a loop which fits all the models and plots the results. We will focus on the `image_neg-image_pos` contrast.\n",
    "\n"
   ]
  },
  {
   "cell_type": "code",
   "execution_count": null,
   "metadata": {
    "execution": {
     "iopub.execute_input": "2022-11-01T20:13:09.125862Z",
     "iopub.status.busy": "2022-11-01T20:13:09.125671Z",
     "iopub.status.idle": "2022-11-01T20:51:14.999552Z",
     "shell.execute_reply": "2022-11-01T20:51:14.998756Z",
     "shell.execute_reply.started": "2022-11-01T20:13:09.125845Z"
    },
    "tags": []
   },
   "outputs": [],
   "source": [
    "from nilearn import plotting\n",
    "import matplotlib.pyplot as plt\n",
    "\n",
    "now = datetime.now()\n",
    "print('Starting cell:',now.strftime(\"%H:%M:%S\"))\n",
    "\n",
    "fig, axes = plt.subplots(nrows=5, ncols=5, figsize=(20, 20)) \n",
    "model_and_args = zip(models, models_run_imgs, models_events, models_confounds)\n",
    "for m_idx, (model, imgs, events, confounds) in enumerate(model_and_args):\n",
    "    # fit the GLM, recall that the model variable is a FirstLevelModel object\n",
    "    model.fit(imgs, events, confounds)\n",
    "    # compute the contrast of interest and make a map of z-values\n",
    "    model.zmap = model.compute_contrast('image_neg-image_pos')\n",
    "    #Plot each thresholded analysis\n",
    "    plotting.plot_glass_brain(model.zmap, cmap='jet',colorbar=True, threshold=p001_unc,\n",
    "                              title=('sub-' + model.subject_label),\n",
    "                              axes=axes[int(m_idx / 5), int(m_idx % 5)],\n",
    "                              plot_abs=False, display_mode='x')\n",
    "\n",
    "   \n",
    "fig.suptitle('subjects z_map image diff (unc p<0.001)')\n",
    "plotting.show()\n",
    "\n",
    "now = datetime.now()\n",
    "print('Finishing cell:',now.strftime(\"%H:%M:%S\"))"
   ]
  },
  {
   "cell_type": "markdown",
   "metadata": {},
   "source": [
    "#### Same but different\n",
    "Note that the single subject results look very different, although one can also see patterns in most participants that look similar.\n",
    "\n",
    "## Saving results.\n",
    "\n",
    "The analysis took a bit of time. Let's make sure to save the results, so that we don't have to run that again. \n",
    "\n",
    "#### Remember to change the directory to somewhere convenient."
   ]
  },
  {
   "cell_type": "code",
   "execution_count": null,
   "metadata": {
    "execution": {
     "iopub.execute_input": "2022-11-01T20:51:15.001265Z",
     "iopub.status.busy": "2022-11-01T20:51:15.000816Z",
     "iopub.status.idle": "2022-11-01T20:51:21.531189Z",
     "shell.execute_reply": "2022-11-01T20:51:21.530386Z",
     "shell.execute_reply.started": "2022-11-01T20:51:15.001244Z"
    },
    "tags": []
   },
   "outputs": [],
   "source": [
    "import pickle\n",
    "\n",
    "#Save the first level models\n",
    "\n",
    "# Saving the objects:\n",
    "f = open('/work/MikkelWallentin#6287/WordFace_first_level_models.pkl', 'wb')\n",
    "pickle.dump([models, models_run_imgs, models_events, models_confounds], f)\n",
    "f.close()\n",
    "\n",
    "# Getting back the objects:\n",
    "#f = open('store.pckl', 'rb')\n",
    "#models, models_run_imgs, models_events, models_confounds = pickle.load(f)\n",
    "#f.close()\n",
    "\n",
    "now = datetime.now()\n",
    "print('Finishing cell:',now.strftime(\"%H:%M:%S\"))"
   ]
  },
  {
   "cell_type": "markdown",
   "metadata": {},
   "source": [
    "## Second level (group) model estimation\n",
    "\n",
    "To investigate the degree of overlap in the data, we will perform a 2nd level analysis, where the contrast estimates for each individual participant will enter as data in a new statistical test.\n",
    "\n",
    "We just have to provide the list of fitted FirstLevelModel objects\n",
    "to the SecondLevelModel object for estimation. We can do this because\n",
    "all subjects share a similar design matrix (same variables reflected in\n",
    "column names).\n",
    "\n"
   ]
  },
  {
   "cell_type": "code",
   "execution_count": null,
   "metadata": {
    "execution": {
     "iopub.execute_input": "2022-11-01T20:51:21.532308Z",
     "iopub.status.busy": "2022-11-01T20:51:21.532114Z",
     "iopub.status.idle": "2022-11-01T20:51:26.760061Z",
     "shell.execute_reply": "2022-11-01T20:51:26.759277Z",
     "shell.execute_reply.started": "2022-11-01T20:51:21.532290Z"
    },
    "tags": []
   },
   "outputs": [],
   "source": [
    "from nilearn.glm.second_level import SecondLevelModel\n",
    "#We will simply add the models estimated above to the second level\n",
    "\n",
    "#second_level_input = models\n",
    "\n",
    "#NB idx11 has different resolution for some reason\n",
    "second_level_input = models[0:11]+models[12:]\n",
    "\n",
    "#Adding the smoothing parameter\n",
    "second_level_model = SecondLevelModel(smoothing_fwhm=8.0)\n",
    "second_level_model = second_level_model.fit(second_level_input)\n",
    "\n",
    "print(second_level_model)\n",
    "\n",
    "now = datetime.now()\n",
    "print('Finishing cell:',now.strftime(\"%H:%M:%S\"))"
   ]
  },
  {
   "cell_type": "markdown",
   "metadata": {},
   "source": [
    "Note that we apply a smoothing of 8mm.\n",
    "\n"
   ]
  },
  {
   "cell_type": "markdown",
   "metadata": {},
   "source": [
    "Computing contrasts at the second level is as simple as at the first level.\n",
    "Since we are not providing confounders we are performing a one-sample test\n",
    "at the second level with the images determined by the specified first level\n",
    "contrast.\n",
    "\n"
   ]
  },
  {
   "cell_type": "code",
   "execution_count": null,
   "metadata": {
    "execution": {
     "iopub.execute_input": "2022-11-01T20:51:26.761126Z",
     "iopub.status.busy": "2022-11-01T20:51:26.760938Z",
     "iopub.status.idle": "2022-11-01T20:53:23.302012Z",
     "shell.execute_reply": "2022-11-01T20:53:23.301185Z",
     "shell.execute_reply.started": "2022-11-01T20:51:26.761110Z"
    },
    "tags": []
   },
   "outputs": [],
   "source": [
    "# NB, variable names used in contrasts have to be the same as those in events file.\n",
    "zmap_g = second_level_model.compute_contrast(\n",
    "    first_level_contrast='image_neg-image_pos')"
   ]
  },
  {
   "cell_type": "markdown",
   "metadata": {},
   "source": [
    "The group level contrast shows...\n"
   ]
  },
  {
   "cell_type": "code",
   "execution_count": null,
   "metadata": {
    "execution": {
     "iopub.execute_input": "2022-11-01T20:53:23.303168Z",
     "iopub.status.busy": "2022-11-01T20:53:23.302954Z",
     "iopub.status.idle": "2022-11-01T20:53:29.376326Z",
     "shell.execute_reply": "2022-11-01T20:53:29.375587Z",
     "shell.execute_reply.started": "2022-11-01T20:53:23.303149Z"
    },
    "tags": []
   },
   "outputs": [],
   "source": [
    "from nilearn.plotting import plot_stat_map\n",
    "import matplotlib\n",
    "\n",
    "plotting.plot_glass_brain(zmap_g, cmap='PiYG',colorbar=True, threshold=None,\n",
    "                          title='Group [image_neg-image_pos] effect (unthresholded)',\n",
    "                          plot_abs=False)\n",
    "plt.show()\n",
    "\n",
    "plot_stat_map(zmap_g, cmap='cold_hot',threshold=p001_unc, cut_coords=[-30,-20,-10,0,10,20,30],\n",
    "              display_mode='z',  black_bg=False,\n",
    "              title='Group [image_neg-image_pos] effect (unc p<0.001)')\n",
    "plt.show()\n",
    "\n",
    "now = datetime.now()\n",
    "print('Finishing cell:',now.strftime(\"%H:%M:%S\"))"
   ]
  },
  {
   "cell_type": "code",
   "execution_count": null,
   "metadata": {
    "execution": {
     "iopub.execute_input": "2022-11-01T22:51:28.764675Z",
     "iopub.status.busy": "2022-11-01T22:51:28.764194Z",
     "iopub.status.idle": "2022-11-01T22:51:33.186233Z",
     "shell.execute_reply": "2022-11-01T22:51:33.185419Z",
     "shell.execute_reply.started": "2022-11-01T22:51:28.764651Z"
    },
    "tags": []
   },
   "outputs": [],
   "source": [
    "from nilearn.glm import threshold_stats_img\n",
    "\n",
    "thresholded_map, threshold = threshold_stats_img(\n",
    "    zmap_g, alpha=0.05, height_control='bonferroni')\n",
    "print('The p<.05 FWER-corrected threshold is %.3g' % threshold)\n",
    "\n",
    "plotting.plot_glass_brain(zmap_g, cmap='PiYG',colorbar=True, threshold=threshold,\n",
    "                          title='Group [image_neg-image_pos] effect (p<0.05,Bonferroni-corrected)',\n",
    "                          plot_abs=False)\n",
    "plt.show()\n",
    "\n",
    "# Make a table of cluster coordinates.\n",
    "table = get_clusters_table(zmap_g, stat_threshold=threshold)\n",
    "print(table)"
   ]
  },
  {
   "cell_type": "markdown",
   "metadata": {},
   "source": [
    "### Find anatomical labels for peak activations\n",
    "We will use a function called [atlasreader](https://github.com/miykael/atlasreader)."
   ]
  },
  {
   "cell_type": "code",
   "execution_count": null,
   "metadata": {
    "execution": {
     "iopub.execute_input": "2022-11-01T23:00:27.851973Z",
     "iopub.status.busy": "2022-11-01T23:00:27.851527Z",
     "iopub.status.idle": "2022-11-01T23:00:52.818679Z",
     "shell.execute_reply": "2022-11-01T23:00:52.818151Z",
     "shell.execute_reply.started": "2022-11-01T23:00:27.851944Z"
    },
    "tags": []
   },
   "outputs": [],
   "source": [
    "from atlasreader import create_output\n",
    "create_output(zmap_g, voxel_thresh=threshold, cluster_extent=0,direction='both')\n",
    "#Atlasreader automatically saves results to both .png-files and a csv-file. Look in your working directory.\n",
    "pd.read_csv('atlasreader_peaks.csv')"
   ]
  },
  {
   "cell_type": "markdown",
   "metadata": {},
   "source": [
    "As can be seen, the fdr correction may be too lenient, and the FWE correction may be too stringent.\n",
    "\n",
    "## Non-parametric permutation methods for calculating corrected p-values\n",
    "\n",
    "Based on [this](https://nilearn.github.io/dev/auto_examples/05_glm_second_level/plot_second_level_one_sample_test.html#sphx-glr-auto-examples-05-glm-second-level-plot-second-level-one-sample-test-py) example.\n",
    "\n",
    "Permutation tests are a class of non-parametric methods. They were pioneered by Fisher (1935) and Pitman (1937). Fisher demonstrated that the null hypothesis could be tested simply by observing, after permuting observations, how often the difference between means would exceed the difference found without permutation, and that for such test, no normality would be required.\n",
    "\n",
    "\n",
    "![permutation_stats.jpg](images/permutation_stats.jpg)\n",
    "\n",
    "If we are comparing two samples (e.g. `treatment` and `control`), we can calculate the effect, we get when shuffling the category labels.\n",
    "\n",
    "![Permutation_test_example_animation.gif](images/Permutation_test_example_animation.gif)\n",
    "Source:[Wikipedia](https://en.wikipedia.org/wiki/Permutation_test)\n",
    "\n",
    "The percentage of values we get that are bigger than our original value, represents the probability that our value comes from the null-distribution.\n",
    "\n",
    "The one-sided p-value of the test is calculated as the proportion of sampled permutations where the difference in means was greater than ${\\displaystyle T_{\\text{obs}}}$. \n",
    "The two-sided p-value of the test is calculated as the proportion of sampled permutations where the absolute difference was greater than \n",
    "${\\displaystyle |T_{\\text{obs}}|}$.\n",
    "\n",
    "When conducting a one-sample group analysis with fMRI-data, we are testing ${\\displaystyle H_{0}:T=0}$, i.e.  if the effect of any given voxel is larger than zero. We can obtain a null-distribution by estimating the effect N times, while randomly flipping the sign on each datapoint.\n",
    "\n",
    "### Making a an image for comparison\n",
    "Before we make the permutation test, we'll calculate an image from the parametric analysis for comparison. We will use the negative log of the p-value as a measure.\n"
   ]
  },
  {
   "cell_type": "code",
   "execution_count": null,
   "metadata": {
    "execution": {
     "iopub.execute_input": "2022-11-01T20:53:33.036527Z",
     "iopub.status.busy": "2022-11-01T20:53:33.036328Z",
     "iopub.status.idle": "2022-11-01T20:55:37.039273Z",
     "shell.execute_reply": "2022-11-01T20:55:37.038528Z",
     "shell.execute_reply.started": "2022-11-01T20:53:33.036510Z"
    },
    "tags": []
   },
   "outputs": [],
   "source": [
    "import numpy as np\n",
    "from nilearn.image import get_data, math_img\n",
    "\n",
    "#Get an image of p-values\n",
    "p_val = second_level_model.compute_contrast(first_level_contrast='image_neg-image_pos',output_type='p_value')\n",
    "# Get the number of voxels in the image\n",
    "n_voxels = np.sum(get_data(second_level_model.masker_.mask_img_))\n",
    "# Making an image with significant values, correcting the p-values for multiple testing and taking negative logarithm\n",
    "neg_log_pval = math_img(\n",
    "    '-np.log10(np.minimum(1, img * {}))'.format(str(n_voxels)),\n",
    "    img=p_val,\n",
    ")\n",
    "\n",
    "#Check image shape\n",
    "print(neg_log_pval.shape)"
   ]
  },
  {
   "cell_type": "markdown",
   "metadata": {},
   "source": [
    "### Next, we perform the permutations."
   ]
  },
  {
   "cell_type": "code",
   "execution_count": null,
   "metadata": {
    "execution": {
     "iopub.execute_input": "2022-11-01T21:39:01.270292Z",
     "iopub.status.busy": "2022-11-01T21:39:01.269751Z",
     "iopub.status.idle": "2022-11-01T21:43:55.403889Z",
     "shell.execute_reply": "2022-11-01T21:43:55.402704Z",
     "shell.execute_reply.started": "2022-11-01T21:39:01.270262Z"
    },
    "tags": []
   },
   "outputs": [],
   "source": [
    "from nilearn.glm.second_level import non_parametric_inference\n",
    "\n",
    "now = datetime.now()\n",
    "print('Starting cell:',now.strftime(\"%H:%M:%S\"))\n",
    "\n",
    "# n_perm=1000 for the sake of time. Ideally, this should be 10,000, but the upper limit on permutations is 2 to the power of N.\n",
    "n_perm=10000\n",
    "\n",
    "#We base the analysis on a contrast image (z-score map) from each participant\n",
    "second_level_input2=[]\n",
    "#Put the NIimg zmaps into a list.\n",
    "for ii in range(21):\n",
    "    second_level_input2.append(second_level_input[ii].zmap)\n",
    "\n",
    "design_matrix = pd.DataFrame(\n",
    "    [1] * len(second_level_input2),\n",
    "    columns=['intercept'],\n",
    ")\n",
    "print(design_matrix)\n",
    "\n",
    "#Calculate p-values using permutation\n",
    "out_dict = non_parametric_inference(\n",
    "    second_level_input2,\n",
    "    design_matrix=design_matrix,,\n",
    "    model_intercept=True,\n",
    "    n_perm=n_perm,  \n",
    "    two_sided_test=False,\n",
    "    smoothing_fwhm=8.0,\n",
    "    n_jobs=1,\n",
    "        \n",
    "    \n",
    ")\n",
    "\n",
    "now = datetime.now()\n",
    "print('Finishing cell:',now.strftime(\"%H:%M:%S\"))"
   ]
  },
  {
   "cell_type": "markdown",
   "metadata": {},
   "source": [
    "Now let's plot the permutation results and compare with the bonferroni corrected effect. \n",
    "\n",
    "Note that effects are now negative log of the p-value, so we will have to take that into consideration when plotting."
   ]
  },
  {
   "cell_type": "code",
   "execution_count": null,
   "metadata": {
    "execution": {
     "iopub.execute_input": "2022-11-01T21:54:52.005739Z",
     "iopub.status.busy": "2022-11-01T21:54:52.005289Z",
     "iopub.status.idle": "2022-11-01T21:54:55.553701Z",
     "shell.execute_reply": "2022-11-01T21:54:55.553131Z",
     "shell.execute_reply.started": "2022-11-01T21:54:52.005712Z"
    },
    "tags": []
   },
   "outputs": [],
   "source": [
    "\n",
    "# Prepare thresholds for plotting\n",
    "\n",
    "threshold_log = round(-np.log10(1 / 20))  # p < 0.05 \n",
    "vmax = round(-np.log10(1 / n_perm)) # minimal p-value possible with the number of permuations\n",
    "\n",
    "cut_coords = [0]\n",
    "\n",
    "#Prepare images to plot\n",
    "IMAGES = [\n",
    "    neg_log_pval,\n",
    "    out_dict\n",
    "]\n",
    "TITLES = [\n",
    "    'Parametric Test',\n",
    "    'Permutation Test\\n(Voxel-Level Error Control)',\n",
    "]\n",
    "\n",
    "#Make loop with plots\n",
    "fig, axes = plt.subplots(figsize=(8, 8), nrows=2, ncols=1)\n",
    "img_counter = 0\n",
    "i_row=0\n",
    "for j_row in range(2):\n",
    "        ax = axes[j_row]     \n",
    "        plotting.plot_glass_brain(\n",
    "            IMAGES[img_counter],\n",
    "            colorbar=True,\n",
    "            vmax=vmax,\n",
    "            plot_abs=False,\n",
    "            cut_coords=cut_coords,\n",
    "            threshold=threshold_log,\n",
    "            figure=fig,\n",
    "            axes=ax,\n",
    "        )\n",
    "\n",
    "        \n",
    "        ax.set_title(TITLES[img_counter])\n",
    "        img_counter += 1\n",
    "\n",
    "\n",
    "fig.suptitle('Group [image_neg-image_pos] contrast\\n(negative log10 p-values)')\n",
    "plt.show()"
   ]
  },
  {
   "cell_type": "markdown",
   "metadata": {},
   "source": [
    "### Publish!!!\n",
    "\n",
    "We have a result. We are almost ready for publication. All we need to know is what it means... "
   ]
  },
  {
   "cell_type": "code",
   "execution_count": null,
   "metadata": {
    "execution": {
     "iopub.status.busy": "2022-11-01T20:55:37.376173Z",
     "iopub.status.idle": "2022-11-01T20:55:37.376404Z",
     "shell.execute_reply": "2022-11-01T20:55:37.376294Z",
     "shell.execute_reply.started": "2022-11-01T20:55:37.376283Z"
    },
    "tags": []
   },
   "outputs": [],
   "source": [
    "now = datetime.now()\n",
    "print('Finishing cell:',now.strftime(\"%H:%M:%S\"))"
   ]
  }
 ],
 "metadata": {
  "kernelspec": {
   "display_name": "Python 3 ",
   "language": "python",
   "name": "python3"
  },
  "language_info": {
   "codemirror_mode": {
    "name": "ipython",
    "version": 3
   },
   "file_extension": ".py",
   "mimetype": "text/x-python",
   "name": "python",
   "nbconvert_exporter": "python",
   "pygments_lexer": "ipython3",
   "version": "3.10.10"
  }
 },
 "nbformat": 4,
 "nbformat_minor": 4
}
